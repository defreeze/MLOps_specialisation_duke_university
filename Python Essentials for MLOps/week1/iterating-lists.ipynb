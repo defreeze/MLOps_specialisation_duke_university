{
 "cells": [
  {
   "cell_type": "markdown",
   "source": [
    "# Creating and iterating lists\n",
    "You can create lists in a few different ways. Looping over a list is also one of the most common operations in Python. This notebook will show you several ways to create a list and then loop over its data."
   ],
   "metadata": {}
  },
  {
   "cell_type": "markdown",
   "source": [
    "## Creating lists\n",
    "These are some of the different ways you can use to create a list"
   ],
   "metadata": {}
  },
  {
   "cell_type": "code",
   "execution_count": null,
   "source": [
    "# create one by defining an empty list with bracket\n",
    "items = []\n",
    "items"
   ],
   "outputs": [],
   "metadata": {}
  },
  {
   "cell_type": "code",
   "execution_count": null,
   "source": [
    "# but you can also use the built-in `list()` in Python is more common to use brackets\n",
    "items = list()\n",
    "items"
   ],
   "outputs": [],
   "metadata": {}
  },
  {
   "cell_type": "code",
   "execution_count": null,
   "source": [
    "# data can be pre-seeded\n",
    "colors = [\"red\", \"blue\", \"brown\"]\n",
    "colors"
   ],
   "outputs": [],
   "metadata": {}
  },
  {
   "cell_type": "markdown",
   "source": [
    "## Iterating over lists\n",
    "This is one of the most common loop operations in Python"
   ],
   "metadata": {}
  },
  {
   "cell_type": "code",
   "execution_count": null,
   "source": [
    "for color in colors:\n",
    "    print(color)"
   ],
   "outputs": [],
   "metadata": {}
  },
  {
   "cell_type": "code",
   "execution_count": null,
   "source": [
    "# it is equivalent\n",
    "for color in [\"red\", \"yellow\"]:\n",
    "    print(color)"
   ],
   "outputs": [],
   "metadata": {}
  },
  {
   "cell_type": "markdown",
   "source": [
    "## List comprehensions\n",
    "This is a more advanced way to loop over a list and set a condition. Use it sparingly and avoid it if the statement becomes too long"
   ],
   "metadata": {}
  },
  {
   "cell_type": "code",
   "execution_count": null,
   "source": [
    "numbers = [2, 3, 4, 12, 5, 3, 4]\n",
    "\n",
    "low_numbers = [n for n in numbers if n < 6]\n",
    "\n",
    "low_numbers"
   ],
   "outputs": [
    {
     "output_type": "execute_result",
     "data": {
      "text/plain": [
       "[2, 3, 4, 5, 3, 4]"
      ]
     },
     "metadata": {},
     "execution_count": 7
    }
   ],
   "metadata": {}
  }
 ],
 "metadata": {
  "kernelspec": {
   "name": "python3",
   "display_name": "Python 3.8.10 64-bit"
  },
  "language_info": {
   "codemirror_mode": {
    "name": "ipython",
    "version": 3
   },
   "file_extension": ".py",
   "mimetype": "text/x-python",
   "name": "python",
   "nbconvert_exporter": "python",
   "pygments_lexer": "ipython3",
   "version": "3.8.10"
  },
  "orig_nbformat": 4,
  "vscode": {
   "interpreter": {
    "hash": "31f2aee4e71d21fbe5cf8b01ff0e069b9275f58929596ceb00d14d90e3e16cd6"
   }
  },
  "interpreter": {
   "hash": "31f2aee4e71d21fbe5cf8b01ff0e069b9275f58929596ceb00d14d90e3e16cd6"
  }
 },
 "nbformat": 4,
 "nbformat_minor": 2
}