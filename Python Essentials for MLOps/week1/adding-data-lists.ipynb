{
 "cells": [
  {
   "cell_type": "markdown",
   "source": [
    "## Adding data to lists\n",
    "There are several ways you can add data to lists. This notebook will cover a few common ways you can add to a a list"
   ],
   "metadata": {}
  },
  {
   "cell_type": "code",
   "execution_count": 1,
   "source": [
    "# define an empty list of fruits\n",
    "fruits = [] \n",
    "fruits"
   ],
   "outputs": [
    {
     "output_type": "execute_result",
     "data": {
      "text/plain": [
       "[]"
      ]
     },
     "metadata": {},
     "execution_count": 1
    }
   ],
   "metadata": {}
  },
  {
   "cell_type": "code",
   "execution_count": 2,
   "source": [
    "# appending items will insert them by the end \n",
    "fruits.append(\"orange\")\n",
    "fruits.append(\"apple\")\n",
    "fruits"
   ],
   "outputs": [
    {
     "output_type": "execute_result",
     "data": {
      "text/plain": [
       "['orange', 'apple']"
      ]
     },
     "metadata": {},
     "execution_count": 2
    }
   ],
   "metadata": {}
  },
  {
   "cell_type": "code",
   "execution_count": 3,
   "source": [
    "# similar to append, you can insert, but that requires an index (position)\n",
    "fruits.insert(0, \"melon\")\n",
    "fruits"
   ],
   "outputs": [
    {
     "output_type": "execute_result",
     "data": {
      "text/plain": [
       "['melon', 'orange', 'apple']"
      ]
     },
     "metadata": {},
     "execution_count": 3
    }
   ],
   "metadata": {}
  },
  {
   "cell_type": "code",
   "execution_count": 4,
   "source": [
    "# you can add one list to another one\n",
    "vegetables = [\"cucumber\", \"carrots\"]\n",
    "fruits + vegetables "
   ],
   "outputs": [
    {
     "output_type": "execute_result",
     "data": {
      "text/plain": [
       "['melon', 'orange', 'apple', 'cucumber', 'carrots']"
      ]
     },
     "metadata": {},
     "execution_count": 4
    }
   ],
   "metadata": {}
  },
  {
   "cell_type": "code",
   "execution_count": 5,
   "source": [
    "# watch out when appending a list to an existing list\n",
    "shopping_list = fruits + vegetables\n",
    "shopping_list.append([\"sugar\", \"salt\"])\n",
    "shopping_list"
   ],
   "outputs": [
    {
     "output_type": "execute_result",
     "data": {
      "text/plain": [
       "['melon', 'orange', 'apple', 'cucumber', 'carrots', ['sugar', 'salt']]"
      ]
     },
     "metadata": {},
     "execution_count": 5
    }
   ],
   "metadata": {}
  },
  {
   "cell_type": "code",
   "execution_count": 6,
   "source": [
    "# you can extend a list instead (similar to adding)\n",
    "shopping_list = fruits + vegetables\n",
    "shopping_list.extend([\"sugar\", \"salt\"])\n",
    "shopping_list"
   ],
   "outputs": [
    {
     "output_type": "execute_result",
     "data": {
      "text/plain": [
       "['melon', 'orange', 'apple', 'cucumber', 'carrots', 'sugar', 'salt']"
      ]
     },
     "metadata": {},
     "execution_count": 6
    }
   ],
   "metadata": {}
  }
 ],
 "metadata": {
  "kernelspec": {
   "name": "python3",
   "display_name": "Python 3.8.10 64-bit"
  },
  "language_info": {
   "codemirror_mode": {
    "name": "ipython",
    "version": 3
   },
   "file_extension": ".py",
   "mimetype": "text/x-python",
   "name": "python",
   "nbconvert_exporter": "python",
   "pygments_lexer": "ipython3",
   "version": "3.8.10"
  },
  "orig_nbformat": 4,
  "vscode": {
   "interpreter": {
    "hash": "31f2aee4e71d21fbe5cf8b01ff0e069b9275f58929596ceb00d14d90e3e16cd6"
   }
  },
  "interpreter": {
   "hash": "31f2aee4e71d21fbe5cf8b01ff0e069b9275f58929596ceb00d14d90e3e16cd6"
  }
 },
 "nbformat": 4,
 "nbformat_minor": 2
}